{
 "cells": [
  {
   "cell_type": "markdown",
   "metadata": {},
   "source": []
  },
  {
   "cell_type": "code",
   "execution_count": 79,
   "metadata": {},
   "outputs": [
    {
     "name": "stdout",
     "output_type": "stream",
     "text": [
      "[-2. -3.  0.  0.  0.]\n",
      "[[ 1.  2.  1.  0.  0.  8.]\n",
      " [ 4.  0.  0.  1.  0. 16.]\n",
      " [ 0.  4.  0.  0.  1. 12.]]\n"
     ]
    }
   ],
   "source": [
    "import numpy as np \n",
    "c=np.array([-2,-3])   #min z=-2x1-3x2\n",
    "b=np.array([[8],[16],[12]])   \n",
    "Info=np.array([[1,2],[4,0],[0,4]]) #代表限制条件\n",
    "basic=np.eye(Info.shape[0]) #产生基变量\n",
    "s=np.append(Info,basic,axis=1) \n",
    "A=np.append(s,b,axis=1)\n",
    "c1=np.append(c,np.zeros(Info.shape[0]))\n",
    "print(c1)\n",
    "print(A)\n"
   ]
  },
  {
   "cell_type": "markdown",
   "metadata": {},
   "source": []
  },
  {
   "cell_type": "code",
   "execution_count": 80,
   "metadata": {},
   "outputs": [
    {
     "name": "stdout",
     "output_type": "stream",
     "text": [
      "[[-2. -3.  0.  0.  0.  0.]]\n"
     ]
    },
    {
     "data": {
      "text/plain": [
       "[True, True, False, False, False]"
      ]
     },
     "execution_count": 80,
     "metadata": {},
     "output_type": "execute_result"
    }
   ],
   "source": [
    "Cost=np.array(np.zeros(A.shape[1]))\n",
    "Cost[0:c.shape[0]]=c\n",
    "BV=np.array(range(c.shape[0],A.shape[1]-1))\n",
    "temp=np.array([Cost[y] for y in BV]).reshape(1,3)\n",
    "zjcj=Cost-np.dot(temp,A)\n",
    "zjcj\n",
    "print(zjcj)\n",
    "zjcj_zero=[x<0 for x in zjcj[0][:zjcj[0].shape[0]-1]]\n",
    "zjcj_zero\n",
    "\n"
   ]
  },
  {
   "cell_type": "code",
   "execution_count": 81,
   "metadata": {},
   "outputs": [],
   "source": [
    "def index(table):\n",
    "    min=table[0]\n",
    "    index2=0\n",
    "    for i,t in enumerate(table):\n",
    "        if table[i]<min:\n",
    "            min=table[i]\n",
    "            index2=i\n",
    "    return index2\n",
    "def is_bigger_zero(zjcj):\n",
    "    for z in zjcj:\n",
    "        if z<0:\n",
    "            return False\n",
    "    return True\n",
    "\n"
   ]
  },
  {
   "cell_type": "code",
   "execution_count": 82,
   "metadata": {},
   "outputs": [
    {
     "name": "stdout",
     "output_type": "stream",
     "text": [
      "basis feasible vairable:\n",
      "x 2 :\n",
      "2.0\n",
      "x 3 :\n",
      "16.0\n",
      "x 1 :\n",
      "3.0\n",
      "result:\n",
      "-9.0\n",
      "[[ 1.    0.    1.    0.   -0.5   2.  ]\n",
      " [ 4.    0.    0.    1.    0.   16.  ]\n",
      " [ 0.    1.    0.    0.    0.25  3.  ]]\n",
      "[-2.    0.    0.    0.    0.75  9.  ]\n",
      "basis feasible vairable:\n",
      "x 0 :\n",
      "2.0\n",
      "x 3 :\n",
      "8.0\n",
      "x 1 :\n",
      "3.0\n",
      "result:\n",
      "-13.0\n",
      "[[ 1.    0.    1.    0.   -0.5   2.  ]\n",
      " [ 0.    0.   -4.    1.    2.    8.  ]\n",
      " [ 0.    1.    0.    0.    0.25  3.  ]]\n",
      "[ 0.   3.   2.   0.   0.5 22. ]\n"
     ]
    }
   ],
   "source": [
    "\n",
    "from math import inf\n",
    "zjcj_zero=[x for x in zjcj[0][:zjcj[0].shape[0]-1]]\n",
    "while 1: \n",
    "    if is_bigger_zero(zjcj[0])==True:\n",
    "        break\n",
    "    ans=np.zeros(A.shape[0])\n",
    "    for i in range(0,A.shape[0]):\n",
    "        ans[i]=inf\n",
    "    enter=index(zjcj[0][:zjcj[0].shape[0]-1])\n",
    "    # zjcj_zero=[x for x in zjcj[0][:zjcj[0].shape[0]-1]]\n",
    "    for i in range(0 ,A.shape[0]):\n",
    "        if A[i][enter]>0:\n",
    "            ans[i]=A[i][A.shape[1]-1]/A[i][enter]\n",
    "        else:\n",
    "            ans[i]=inf\n",
    "    leave=BV[index(ans)]\n",
    "    A[index(ans)]= A[index(ans)]/A[index(ans)][enter]   \n",
    "    for i in range(0,A.shape[0]):\n",
    "        if i!=index(ans):\n",
    "            A[i]=A[i][:]-A[i][enter]*A[index(ans)]\n",
    "        else:\n",
    "            A[i]=A[index (ans)]\n",
    "    BV[index(ans)]=enter\n",
    "    res=0\n",
    "    print(\"basis feasible vairable:\") \n",
    "    for i in range(0,A.shape[0]):\n",
    "        print(\"x\",BV[i],\":\")\n",
    "        res+=c1[BV[i]]*A[i][A.shape[1]-1]\n",
    "        print(A[i][A.shape[1]-1])\n",
    "    print(\"result:\")\n",
    "    print(res)\n",
    "    print(A)\n",
    "    print(\"zjcj[0]，before:\")\n",
    "    print(zjcj[0])\n",
    "    temp=np.array([Cost[y] for y in BV]).reshape(1,3)\n",
    "    # print(zjcj[0])\n",
    "    zjcj[0]=zjcj[0]-np.dot(temp,A)\n",
    "    print(zjcj[0])\n",
    "    # print(zjcj[0])\n",
    "\n",
    "    # print(np.dot(temp,A))\n",
    "  \n",
    "    # print(zjcj_zero)\n",
    "    \n"
   ]
  },
  {
   "cell_type": "code",
   "execution_count": null,
   "metadata": {},
   "outputs": [],
   "source": []
  },
  {
   "cell_type": "code",
   "execution_count": null,
   "metadata": {},
   "outputs": [],
   "source": []
  }
 ],
 "metadata": {
  "kernelspec": {
   "display_name": "Python 3.9.10 64-bit",
   "language": "python",
   "name": "python3"
  },
  "language_info": {
   "codemirror_mode": {
    "name": "ipython",
    "version": 3
   },
   "file_extension": ".py",
   "mimetype": "text/x-python",
   "name": "python",
   "nbconvert_exporter": "python",
   "pygments_lexer": "ipython3",
   "version": "3.9.10"
  },
  "orig_nbformat": 4,
  "vscode": {
   "interpreter": {
    "hash": "fbe58ca63fe33f9eeae9e71d10368d2b4a57f2b1b395836210cc60d362c66949"
   }
  }
 },
 "nbformat": 4,
 "nbformat_minor": 2
}
